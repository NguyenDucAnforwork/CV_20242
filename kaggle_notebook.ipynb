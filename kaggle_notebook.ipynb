{
 "cells": [
  {
   "cell_type": "markdown",
   "id": "86199293",
   "metadata": {},
   "source": [
    "# CV Project Training Notebook\n",
    "\n",
    "This notebook clones the GitHub repository and runs the training script."
   ]
  },
  {
   "cell_type": "code",
   "execution_count": null,
   "id": "2079b9a6",
   "metadata": {},
   "outputs": [],
   "source": [
    "# I haven't tested this code yet, but it should work."
   ]
  },
  {
   "cell_type": "code",
   "execution_count": null,
   "id": "7b78bf66",
   "metadata": {},
   "outputs": [],
   "source": [
    "# Install required packages\n",
    "!pip install wandb pyyaml tqdm"
   ]
  },
  {
   "cell_type": "code",
   "execution_count": null,
   "id": "b3a4f1f6",
   "metadata": {},
   "outputs": [],
   "source": [
    "# Clone the GitHub repository\n",
    "# Replace with your actual GitHub repository URL\n",
    "!git clone https://github.com/yourusername/cv-project.git\n",
    "# Change to the repository directory\n",
    "%cd cv-project"
   ]
  },
  {
   "cell_type": "code",
   "execution_count": null,
   "id": "0f71e0b0",
   "metadata": {},
   "outputs": [],
   "source": [
    "# Optional: Set up wandb - add your API key here\n",
    "import os\n",
    "os.environ['WANDB_API_KEY'] = 'your-wandb-api-key'  # Replace with your actual API key\n",
    "\n",
    "# Set model type environment variable\n",
    "os.environ['MODEL_TYPE'] = 'scae'  # Change to 'convolution_unsupervised' as needed"
   ]
  },
  {
   "cell_type": "code",
   "execution_count": null,
   "id": "3dfbfc4c",
   "metadata": {},
   "outputs": [],
   "source": [
    "# Check if GPU is available\n",
    "import torch\n",
    "print(f\"GPU Available: {torch.cuda.is_available()}\")\n",
    "if torch.cuda.is_available():\n",
    "    print(f\"GPU Device: {torch.cuda.get_device_name(0)}\")"
   ]
  },
  {
   "cell_type": "code",
   "execution_count": null,
   "id": "a0013167",
   "metadata": {},
   "outputs": [],
   "source": [
    "# List repository contents to verify the files are there\n",
    "!ls -la"
   ]
  },
  {
   "cell_type": "code",
   "execution_count": null,
   "id": "93d2b86d",
   "metadata": {},
   "outputs": [],
   "source": [
    "# Run the training script\n",
    "!python train.py"
   ]
  },
  {
   "cell_type": "code",
   "execution_count": null,
   "id": "e2bd87ec",
   "metadata": {},
   "outputs": [],
   "source": [
    "# Check the saved model file\n",
    "!ls -la *_model.pth"
   ]
  }
 ],
 "metadata": {
  "language_info": {
   "name": "python"
  }
 },
 "nbformat": 4,
 "nbformat_minor": 5
}
